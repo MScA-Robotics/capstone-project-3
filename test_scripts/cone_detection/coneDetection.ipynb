{
 "cells": [
  {
   "cell_type": "code",
   "execution_count": null,
   "metadata": {},
   "outputs": [],
   "source": [
    "import cv2\n",
    "import numpy as np\n",
    "import time\n",
    "from picamera import PiCamera #comment out if on windows and use static image file\n",
    "from picamera import PiRGBArray"
   ]
  },
  {
   "cell_type": "code",
   "execution_count": 77,
   "metadata": {},
   "outputs": [],
   "source": [
    "def findCone(colorBounds = [([119, 82, 29],[135, 225, 96])], imageSource = \"camera\"):\n",
    "    \"\"\"\"\n",
    "    Input: \n",
    "        - colorBounds: as a list/touple of lists OR a nested list of touple of lists (from Raghav's get_hsv_boundaries() )\n",
    "        - imageSource: \"camera\" for using picamera OR path to saved image.\n",
    "    Output: Horizontal position of the center of the cone in the frame (as a decimal between (0,1)) OR False if no cone found\n",
    "    Dependencies: Numpy, cv2, picamera, time\n",
    "    Limitations: picamera can only run on the raspberry pi itself.  Comment out the picamera imports and use saved images if testing on a different platform\n",
    "    \"\"\"\n",
    "    def convexHullPointingUp(ch):\n",
    "        pointsAboveCenter, poinstBelowCenter = [], []\n",
    "\n",
    "        x, y, w, h = cv2.boundingRect(ch)\n",
    "        aspectRatio = w / h\n",
    "\n",
    "        if aspectRatio < 0.8:\n",
    "            verticalCenter = y + h / 2\n",
    "\n",
    "            for point in ch:\n",
    "                if point[0][1] < verticalCenter:\n",
    "                    pointsAboveCenter.append(point)\n",
    "                elif point[0][1] >= verticalCenter:\n",
    "                    poinstBelowCenter.append(point)\n",
    "\n",
    "            leftX = poinstBelowCenter[0][0][0]\n",
    "            rightX = poinstBelowCenter[0][0][0]\n",
    "            for point in poinstBelowCenter:\n",
    "                if point[0][0] < leftX:\n",
    "                    leftX = point[0][0]\n",
    "                if point[0][0] > rightX:\n",
    "                    rightX = point[0][0]\n",
    "\n",
    "            for point in pointsAboveCenter:\n",
    "                if (point[0][0] < leftX) or (point[0][0] > rightX):\n",
    "                    return False\n",
    "\n",
    "        else:\n",
    "            return False\n",
    "\n",
    "        return True\n",
    "\n",
    "\n",
    "    #_____imgOriginal\n",
    "    if imageSource == \"camera\":\n",
    "        with picamera.PiCamera() as camera:\n",
    "            res = (640, 480)\n",
    "            camera.resolution = res\n",
    "            camera.framerate = 24\n",
    "            time.sleep(0.1)\n",
    "            rawCapture = PiRGBArray(camera, size = res)\n",
    "            camera.capture(rawCapture, 'bgr')\n",
    "            imgOriginal = rawCapture.array\n",
    "    else: \n",
    "        imgOriginal = cv2.imread(imageSource)\n",
    "        \n",
    "    #_____imgHSV\n",
    "    imgHSV = cv2.cvtColor(imgOriginal, cv2.COLOR_BGR2HSV)\n",
    "    width = imgHSV.shape[1]\n",
    "\n",
    "    #_____colorThrshold\n",
    "    if any((isinstance(j, list) | isinstance(j, tuple)) for i in colorBounds for j in i):\n",
    "        colorBounds = colorBounds[0]\n",
    "    lowerColor = np.array(colorBounds[0])\n",
    "    upperColor = np.array(colorBounds[1])\n",
    "    imgThresh = cv2.inRange(imgHSV, lowerColor, upperColor)\n",
    "\n",
    "    #_____imgThreshSmoothed\n",
    "    kernel = np.ones((3, 3), np.uint8)\n",
    "    imgEroded = cv2.erode(imgThresh, kernel, iterations=1)\n",
    "    imgDilated = cv2.dilate(imgEroded, kernel, iterations=1)\n",
    "    imgThreshSmoothed = cv2.GaussianBlur(imgDilated, (3, 3), 0)\n",
    "\n",
    "    #_____imgCanny\n",
    "    imgCanny = cv2.Canny(imgThreshSmoothed, 80, 160)\n",
    "\n",
    "    #_____imgContours\n",
    "    _, contours, _ = cv2.findContours(np.array(imgCanny), cv2.RETR_EXTERNAL, cv2.CHAIN_APPROX_SIMPLE)\n",
    "\n",
    "    approxContours = []\n",
    "\n",
    "    for c in contours:\n",
    "        approx = cv2.approxPolyDP(c, 10, closed=True)\n",
    "        approxContours.append(approx)\n",
    "\n",
    "\n",
    "    #_____imgAllConvexHulls\n",
    "    allConvexHulls = []\n",
    "\n",
    "    for ac in approxContours:\n",
    "        allConvexHulls.append(cv2.convexHull(ac))\n",
    "\n",
    "    #_____imgConvexHulls3To10\n",
    "    convexHull3To10 = []\n",
    "\n",
    "    for ch in allConvexHulls:\n",
    "        if 3 <= len(ch) <= 10:\n",
    "            convexHull3To10.append(cv2.convexHull(ch))\n",
    "\n",
    "\n",
    "    #imgTrafficCones\n",
    "\n",
    "    cones = []\n",
    "    bounding_Rects = []\n",
    "\n",
    "    for ch in convexHull3To10:\n",
    "        if convexHullPointingUp(ch):\n",
    "            cones.append(ch)\n",
    "            #boundingRect returns (topleft_x,topleft_y,width,height)\n",
    "            rect = cv2.boundingRect(ch)\n",
    "            bounding_Rects.append(rect)\n",
    "\n",
    "    #horizontal centers\n",
    "    centers = []\n",
    "    for rect in bounding_Rects:\n",
    "        center = rect[0]+rect[2]-rect[2]/2\n",
    "        centers.append(center)\n",
    "    #return horizontal position of (first) found cone\n",
    "    try:\n",
    "        return round(centers[0]/width, 5)\n",
    "    except IndexError:\n",
    "        return False\n"
   ]
  },
  {
   "cell_type": "code",
   "execution_count": 79,
   "metadata": {},
   "outputs": [
    {
     "data": {
      "text/plain": [
       "0.54736"
      ]
     },
     "execution_count": 79,
     "metadata": {},
     "output_type": "execute_result"
    }
   ],
   "source": [
    "#findCone(imageSource = 'data/cones/cone1.jpg')"
   ]
  },
  {
   "cell_type": "code",
   "execution_count": 80,
   "metadata": {},
   "outputs": [
    {
     "data": {
      "text/plain": [
       "False"
      ]
     },
     "execution_count": 80,
     "metadata": {},
     "output_type": "execute_result"
    }
   ],
   "source": [
    "#findCone(imageSource = 'data/cones/blank.jpg')"
   ]
  },
  {
   "cell_type": "code",
   "execution_count": null,
   "metadata": {},
   "outputs": [],
   "source": []
  }
 ],
 "metadata": {
  "kernelspec": {
   "display_name": "Python 3",
   "language": "python",
   "name": "python3"
  },
  "language_info": {
   "codemirror_mode": {
    "name": "ipython",
    "version": 3
   },
   "file_extension": ".py",
   "mimetype": "text/x-python",
   "name": "python",
   "nbconvert_exporter": "python",
   "pygments_lexer": "ipython3",
   "version": "3.7.1"
  }
 },
 "nbformat": 4,
 "nbformat_minor": 2
}
